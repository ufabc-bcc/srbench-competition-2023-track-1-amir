{
 "cells": [
  {
   "cell_type": "code",
   "execution_count": 65,
   "id": "b9d8d96b",
   "metadata": {},
   "outputs": [],
   "source": [
    "#pysr symbolic regression method\n",
    "#Using from the 'dataset_1.csv'\n",
    "#import all the necessary libraries\n",
    "import time\n",
    "import numpy as np\n",
    "import pandas as pd\n",
    "from pysr import *\n",
    "from math import sqrt\n",
    "from sklearn.model_selection import train_test_split\n",
    "from sklearn.metrics import mean_absolute_error\n",
    "from sklearn.metrics import mean_squared_error\n",
    "import warnings\n",
    "warnings.filterwarnings('ignore')\n",
    "\n",
    "#Load data and read data from csv dataset_1\n",
    "data = pd.read_csv('dataset_1.csv')\n",
    "X = data.iloc[:, :-1] #All the independent variables will remain except target or dependent varaiable\n",
    "y = data.iloc[:, -1]  #Only target or dependent varaiable will remain \n",
    "\n",
    "# Split the data into training and testing sets\n",
    "X_train, X_test, y_train, y_test = train_test_split(X, y, test_size=0.2, random_state=100)"
   ]
  },
  {
   "cell_type": "code",
   "execution_count": 66,
   "id": "5d048591",
   "metadata": {},
   "outputs": [],
   "source": [
    "default_pysr_params = dict(\n",
    "    populations=15, # Number of populations running, default: 15\n",
    "    population_size=33, #Number of individuals in each population, default: 33\n",
    "    ncyclesperiteration=550, # No.of total mutations to run, per 10 samples of the population, per iteration,default:550\n",
    "    model_selection=\"best\",\n",
    ")\n",
    "# Learn equations symbolic regression\n",
    "model = PySRRegressor(\n",
    "    niterations=100, #To have better score need to increase the value\n",
    "    binary_operators=[\"+\", \"-\", \"*\", \"/\"],\n",
    "    unary_operators=[\"sin\"],\n",
    "    loss=\"loss(prediction, target) = (prediction - target)^2\", # ^ Custom loss function (julia syntax)\n",
    "    **default_pysr_params    \n",
    ")"
   ]
  },
  {
   "cell_type": "code",
   "execution_count": 67,
   "id": "b9dff0af",
   "metadata": {},
   "outputs": [],
   "source": [
    "#Start model training run time\n",
    "start_time = time.time()"
   ]
  },
  {
   "cell_type": "code",
   "execution_count": null,
   "id": "4827e6e2",
   "metadata": {},
   "outputs": [],
   "source": [
    "#Train the model\n",
    "model.fit(X_train, y_train)"
   ]
  },
  {
   "cell_type": "code",
   "execution_count": null,
   "id": "b0f36d35",
   "metadata": {},
   "outputs": [],
   "source": [
    "#End time\n",
    "end_time = time.time()\n",
    "\n",
    "# Calculate the runtime\n",
    "runtime = end_time - start_time\n",
    "print(\"Runtime: \", runtime, \"seconds\")\n",
    "\n",
    "# Make predictions on the test set\n",
    "y_pred = model.predict(X_test)\n",
    "rmse = np.sqrt(mean_squared_error(y_test, y_pred))\n",
    "mae = mean_absolute_error(y_test, y_pred)\n",
    "print(\"RMSE:\", rmse)\n",
    "print(\"MAE:\", mae)"
   ]
  },
  {
   "cell_type": "code",
   "execution_count": null,
   "id": "1283b19f",
   "metadata": {},
   "outputs": [],
   "source": [
    "#To check the R-squared predection score of the model\n",
    "model.score(X_test,y_test)"
   ]
  },
  {
   "cell_type": "code",
   "execution_count": null,
   "id": "3b58fe27",
   "metadata": {},
   "outputs": [],
   "source": [
    "#Display all the discovered  mathematical equations\n",
    "model.equations_"
   ]
  },
  {
   "cell_type": "code",
   "execution_count": null,
   "id": "c7f9914e",
   "metadata": {},
   "outputs": [],
   "source": [
    "#Discover the mathematical equations of the model(expressions)\n",
    "model.sympy()"
   ]
  },
  {
   "cell_type": "code",
   "execution_count": null,
   "id": "5bb3206e",
   "metadata": {},
   "outputs": [],
   "source": [
    "##Dolanload generated best model equation\n",
    "with open(f'dataset_1_best_model', 'w') as f:\n",
    " f.write(str(model.sympy()))"
   ]
  },
  {
   "cell_type": "code",
   "execution_count": null,
   "id": "10359cb9",
   "metadata": {},
   "outputs": [],
   "source": [
    "# Plot the actual vs predicted values for testing data\n",
    "plt.scatter(y_test, y_test_pred)\n",
    "plt.plot([min(y_test), max(y_test)], [min(y_test), max(y_test)], 'r', label='Ideal')\n",
    "plt.xlabel('Actual')\n",
    "plt.ylabel('Predicted')\n",
    "plt.title('Pysr Symbolic Regression Method')\n",
    "plt.legend()\n",
    "plt.show()"
   ]
  },
  {
   "cell_type": "code",
   "execution_count": null,
   "id": "e159d3a7",
   "metadata": {},
   "outputs": [],
   "source": []
  }
 ],
 "metadata": {
  "celltoolbar": "Raw Cell Format",
  "kernelspec": {
   "display_name": "Python 3 (ipykernel)",
   "language": "python",
   "name": "python3"
  },
  "language_info": {
   "codemirror_mode": {
    "name": "ipython",
    "version": 3
   },
   "file_extension": ".py",
   "mimetype": "text/x-python",
   "name": "python",
   "nbconvert_exporter": "python",
   "pygments_lexer": "ipython3",
   "version": "3.10.9"
  }
 },
 "nbformat": 4,
 "nbformat_minor": 5
}
